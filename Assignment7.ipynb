{
 "cells": [
  {
   "cell_type": "markdown",
   "id": "c537418d",
   "metadata": {},
   "source": [
    "1. Given an integer array nums of length n and an integer target, find three integers in nums such that the sum is closest to the target.[Amazon] You need to return the sum of three integers.\n",
    "\n",
    "For example: arr = [-1, 2, 1, -4], target = 1\n",
    "\n",
    "Output: 2\n",
    "\n",
    "Explanation: [-1+2+1] = 2 (The sum that is closest to the target is 2)"
   ]
  },
  {
   "cell_type": "code",
   "execution_count": 1,
   "id": "0053e664",
   "metadata": {},
   "outputs": [],
   "source": [
    "def closest_sum(arr, target):\n",
    "    # time complexity: o(n^2)\n",
    "    # choose one and traverse through other subsequent points to find the least sum\n",
    "    n = len(arr)\n",
    "    close_sum = 999999\n",
    "    # sum of 3 points would be compared to target and the closest sum would be choosen\n",
    "    for i in range(0, n-2):\n",
    "        point1, point2 = i+1, n-1 # first point after i and last index\n",
    "        while point1 < point2:\n",
    "            value = arr[i] + arr[point1] + arr[point2]\n",
    "            if abs(close_sum-target) > abs(value-target):\n",
    "                close_sum = value\n",
    "            if value > target:\n",
    "                point1+=1\n",
    "            else:\n",
    "                point2-=1\n",
    "            \n",
    "    return close_sum"
   ]
  },
  {
   "cell_type": "code",
   "execution_count": 2,
   "id": "5b46eb00",
   "metadata": {},
   "outputs": [
    {
     "name": "stdout",
     "output_type": "stream",
     "text": [
      "closest_sum is 2\n"
     ]
    }
   ],
   "source": [
    "arr = [-1, 2, 1, -4]\n",
    "target = 1\n",
    "print(f'closest_sum is {closest_sum(arr, target)}')"
   ]
  },
  {
   "cell_type": "markdown",
   "id": "c0ae8dd0",
   "metadata": {},
   "source": [
    "2. Given three points, check whether they lie on a straight (collinear) or not. [Google]\n",
    "\n",
    "For example: Input- [(1,1), (1,6), (0,9)] Output- No\n",
    "\n",
    "Input- [(1,1), (1,4), (1,5)] Output- Yes"
   ]
  },
  {
   "cell_type": "code",
   "execution_count": 3,
   "id": "6ae0219a",
   "metadata": {},
   "outputs": [],
   "source": [
    "import random\n",
    "\"\"\" \n",
    "solution would be that slope along the straight line would be constant, so for any pair of \n",
    "random points along the straight line the slope would be constant\n",
    "\"\"\"\n",
    "# Time complexity : o(1)\n",
    "def collinear(*args):\n",
    "    assert len(args) > 1\n",
    "    nbr_of_pts = len(args)-1\n",
    "    point1 = args[random.randint(0,nbr_of_pts)]\n",
    "    point2 = args[-1]\n",
    "    point3 = args[0]\n",
    "    \n",
    "    # slope(first point, random point) == slope(last point, random point)\n",
    "    if (point3[0] - point1[0]) * (point3[1] - point1[1]) == (point2[0] - point1[0]) * (point2[1] - point1[1]):\n",
    "        return f'YES'\n",
    "    else:\n",
    "        return f'NOT'"
   ]
  },
  {
   "cell_type": "code",
   "execution_count": 4,
   "id": "fd0b7fee",
   "metadata": {},
   "outputs": [
    {
     "name": "stdout",
     "output_type": "stream",
     "text": [
      "Points ((1,1), (1,6), (0,9)) is NOT straight line\n"
     ]
    }
   ],
   "source": [
    "print(f'Points ((1,1), (1,6), (0,9)) is {collinear((1,1), (1,6), (0,9))} straight line')"
   ]
  },
  {
   "cell_type": "code",
   "execution_count": 5,
   "id": "24a796ce",
   "metadata": {},
   "outputs": [
    {
     "name": "stdout",
     "output_type": "stream",
     "text": [
      "Points ((1,1), (1,4), (1,5)) is YES straight line\n"
     ]
    }
   ],
   "source": [
    "print(f'Points ((1,1), (1,4), (1,5)) is {collinear((1,1), (1,4), (1,5))} straight line')"
   ]
  },
  {
   "cell_type": "markdown",
   "id": "635811d4",
   "metadata": {},
   "source": [
    "3. An e-commerce site tracks the purchases made each day. The product that is purchased the most one day is the featured product for the following day. If there is a tie for the product purchased most frequently, those product names are ordered alphabetically ascending and the last name in the list is chosen.[Amazon]\n",
    "\n",
    "['yellowShirt', 'redHat', 'blackShirt', 'bluePants', 'redHat','pinkHat', 'blackShirt', 'yellowShirt', 'greenPants', 'greenPants', 'greenPants']\n",
    "\n",
    "'yellowShirt' - 2, 'redHat' - 2 'blackShirt' - 2 'bluePants' - 1 'greenPants' - 3 'pinkHat' - 1\n",
    "\n",
    "Output - greenPants"
   ]
  },
  {
   "cell_type": "code",
   "execution_count": 6,
   "id": "cff3c911",
   "metadata": {},
   "outputs": [],
   "source": [
    "def lex_freq_item(arr):\n",
    "    # time complexity: merge sort is used by python sorted function o(nlogn)\n",
    "    # space complexity: extra space of o(n)+o(n) = o(n) one for dict and one for sorted list\n",
    "    assert len(arr) > 0\n",
    "    if len(arr) == 1:\n",
    "        return arr[0]\n",
    "    \n",
    "    item_freq = {}\n",
    "    for item in arr:\n",
    "        if item in item_freq:\n",
    "            item_freq[item]+=1\n",
    "        else:\n",
    "            item_freq[item]=1\n",
    "            \n",
    "    max_freq_item = max(item_freq.values())\n",
    "    \n",
    "    return sorted([k for k, v in item_freq.items() if v ==  max_freq_item])[-1]"
   ]
  },
  {
   "cell_type": "code",
   "execution_count": 7,
   "id": "1ed4af69",
   "metadata": {},
   "outputs": [
    {
     "name": "stdout",
     "output_type": "stream",
     "text": [
      "Output is yellowShirt\n"
     ]
    }
   ],
   "source": [
    "arr = ['yellowShirt', 'redHat', 'blackShirt', 'bluePants', 'redHat','pinkHat', 'blackShirt', 'yellowShirt', 'greenPants', 'greenPants']\n",
    "print(f'Output is {lex_freq_item(arr)}')"
   ]
  },
  {
   "cell_type": "markdown",
   "id": "cec7a88c",
   "metadata": {},
   "source": [
    "4. An almost sorted array is given to us and the task is to sort that array completely. Then, which sorting algorithm would you prefer and why?[Salesforce]\n",
    "\n",
    "#### "
   ]
  },
  {
   "cell_type": "markdown",
   "id": "a64ff71c",
   "metadata": {},
   "source": [
    "### Answer\n",
    "\n",
    "Insertion sort would be the most preferred algo for an almost sorted array\n",
    "\n",
    "since the array is almost sorted the nbr of swaps would be minimum and the comparison of values would be the length of\n",
    "the array\n",
    "\n",
    "eg: arr = 75, 80, 90, 100, 110\n",
    "\n",
    "insertion sort will start with index 1 and traverse backwards to zero index with any swaps, so the time complexity \n",
    "would be O(n) with zero swaps\n",
    "\n",
    "```python\n",
    "for i in range(1, n):\n",
    "    idx = arr[i]\n",
    "    j = i-1\n",
    "    while j>=0 and idx < arr[j]: then swap\n",
    "```"
   ]
  },
  {
   "cell_type": "code",
   "execution_count": null,
   "id": "ff0fc715",
   "metadata": {},
   "outputs": [],
   "source": []
  }
 ],
 "metadata": {
  "kernelspec": {
   "display_name": "Python 3 (ipykernel)",
   "language": "python",
   "name": "python3"
  },
  "language_info": {
   "codemirror_mode": {
    "name": "ipython",
    "version": 3
   },
   "file_extension": ".py",
   "mimetype": "text/x-python",
   "name": "python",
   "nbconvert_exporter": "python",
   "pygments_lexer": "ipython3",
   "version": "3.9.12"
  }
 },
 "nbformat": 4,
 "nbformat_minor": 5
}
