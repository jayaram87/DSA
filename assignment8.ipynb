{
 "cells": [
  {
   "cell_type": "markdown",
   "id": "a3ca00cf",
   "metadata": {},
   "source": [
    "1. Kth smallest element [Amazon]\n",
    "\n",
    "Given an array of n-elements and an integer k, find the kth smallest element present in an array.\n",
    "\n",
    "For example:\n",
    "    \n",
    "arr = [40, 25, 68, 79, 52, 66, 89, 97]\n",
    "\n",
    "k = 2\n",
    "\n",
    "result = 40"
   ]
  },
  {
   "cell_type": "code",
   "execution_count": 1,
   "id": "7c49e040",
   "metadata": {},
   "outputs": [],
   "source": [
    "def partition(arr, p, q):\n",
    "    pivot = arr[p]\n",
    "    i = p\n",
    "    for j in range(i+1, q+1):\n",
    "        if arr[j] <= pivot:\n",
    "            arr[i], arr[j] = arr[j], arr[i]\n",
    "    arr[p], arr[i] = arr[i], arr[p]\n",
    "    return i"
   ]
  },
  {
   "cell_type": "code",
   "execution_count": 2,
   "id": "13b53cb5",
   "metadata": {},
   "outputs": [],
   "source": [
    "def selectionProcedure(arr, p, q, k):\n",
    "    if p == q and p == k-1: return arr[p]\n",
    "    if p < q:\n",
    "        pos = partition(arr, p, q)\n",
    "        if k-1 == pos:\n",
    "            return arr[k-1]\n",
    "        elif k-1 > pos:\n",
    "            return selectionProcedure(arr, pos+1, q, k)\n",
    "        else:\n",
    "            return selectionProcedure(arr, p, pos-1, k)"
   ]
  },
  {
   "cell_type": "code",
   "execution_count": 3,
   "id": "35f2b936",
   "metadata": {},
   "outputs": [
    {
     "name": "stdout",
     "output_type": "stream",
     "text": [
      "2th smallest element in arr is 40\n",
      "time complexity is o(n) or o(n2)\n"
     ]
    }
   ],
   "source": [
    "arr = [40, 25, 68, 79, 52, 66, 89, 97]\n",
    "k = 2\n",
    "p = 0\n",
    "q = len(arr)-1\n",
    "print(f'{k}th smallest element in arr is {selectionProcedure(arr, p, q, k)}')\n",
    "print(f'time complexity is o(n) or o(n2)')"
   ]
  },
  {
   "cell_type": "markdown",
   "id": "dbee5c5f",
   "metadata": {},
   "source": [
    "2. Sort Colors [Amazon]\n",
    "\n",
    "Given array nums with n objects colored red, white, or blue, sort them in place so thatthe objects of the same color are adjacent, with the colors in the order red, white, and blue. We will use the integers 0, 1, and 2 to represent the color red, white, and blue respectively.\n",
    "\n",
    "Solve this question without using the library sort function.\n",
    "\n",
    "For example:\n",
    "\n",
    "Nums = [2,0,2,1,1,0]\n",
    "\n",
    "Result = [0,0,1,1,2,2]"
   ]
  },
  {
   "cell_type": "code",
   "execution_count": 4,
   "id": "ba89524f",
   "metadata": {},
   "outputs": [],
   "source": [
    "def sortColors(nums):\n",
    "    p = 0\n",
    "    q = len(nums) - 1\n",
    "    i = 0\n",
    "    \n",
    "    while i <= q:\n",
    "        if nums[i] == 0:\n",
    "            nums[p], nums[i] = nums[i], nums[p]\n",
    "            p+=1\n",
    "            i+=1\n",
    "        elif nums[i] == 2:\n",
    "            nums[q], nums[i] = nums[i], nums[q]\n",
    "            q-=1\n",
    "        else:\n",
    "            i+= 1\n",
    "    return nums"
   ]
  },
  {
   "cell_type": "code",
   "execution_count": 5,
   "id": "6487b922",
   "metadata": {},
   "outputs": [
    {
     "name": "stdout",
     "output_type": "stream",
     "text": [
      "sorted 3 colors [0, 0, 1, 1, 2, 2]\n",
      "time complexity is o(n)\n"
     ]
    }
   ],
   "source": [
    "nums = [2,0,2,1,1,0]\n",
    "print(f'sorted 3 colors {sortColors(nums)}')\n",
    "print(f'time complexity is o(n)')"
   ]
  },
  {
   "cell_type": "markdown",
   "id": "536b9598",
   "metadata": {},
   "source": [
    "3. Kth Largest Element in an array [Facebook]\n",
    "\n",
    "Given an integer array nums and an integer k, return the kth largest element present in an array.\n",
    "\n",
    "For example:\n",
    "\n",
    "arr = [40, 25, 68, 79, 52, 66, 89, 97]\n",
    "\n",
    "k = 2, result = 89"
   ]
  },
  {
   "cell_type": "code",
   "execution_count": 6,
   "id": "72bce2a4",
   "metadata": {},
   "outputs": [
    {
     "name": "stdout",
     "output_type": "stream",
     "text": [
      "2th largest element in the arr is 89\n",
      "time complexity is o(n) or o(n2)\n"
     ]
    }
   ],
   "source": [
    "arr = [40, 25, 68, 79, 52, 66, 89, 97]\n",
    "p = 0\n",
    "q = len(arr)-1\n",
    "k = 2\n",
    "# 7+2-2 = 9-2= 7th index is the 2nd largest\n",
    "print(f'{k}th largest element in the arr is {selectionProcedure(arr, p, q, q+2-k)}')\n",
    "print(f'time complexity is o(n) or o(n2)')"
   ]
  },
  {
   "cell_type": "markdown",
   "id": "10784da0",
   "metadata": {},
   "source": [
    "4. Majority Element [Amazon, Google]\n",
    "\n",
    "Given array nums of size n, return the majority element present in the array. Assume that the majority element always exists in an array.\n",
    "\n",
    "For example:\n",
    "\n",
    "Nums = [2, 2, 1, 1, 1, 2, ,2]\n",
    "\n",
    "Output: 2"
   ]
  },
  {
   "cell_type": "code",
   "execution_count": 7,
   "id": "7ab9a18f",
   "metadata": {},
   "outputs": [],
   "source": [
    "# sort the array and get the mid element and if all the elements after mid are same as mid then answer is mid\n",
    "# O(n) + o(n) # time and space complexity\n",
    "from collections import Counter\n",
    "def majorityElement(nums):\n",
    "    nums = dict(Counter(nums))\n",
    "    return max(nums, key=lambda x: nums[x])"
   ]
  },
  {
   "cell_type": "code",
   "execution_count": 8,
   "id": "befd430c",
   "metadata": {},
   "outputs": [
    {
     "name": "stdout",
     "output_type": "stream",
     "text": [
      "Majority element in the arr is 2\n",
      "time complexity is o(n) and space complexity is o(n)\n"
     ]
    }
   ],
   "source": [
    "nums = [2,2,1,1,1,2,2]\n",
    "print(f'Majority element in the arr is {majorityElement(nums)}')\n",
    "print(f'time complexity is o(n) and space complexity is o(n)')"
   ]
  },
  {
   "cell_type": "code",
   "execution_count": 9,
   "id": "de3fff0b",
   "metadata": {},
   "outputs": [
    {
     "name": "stdout",
     "output_type": "stream",
     "text": [
      "Majority element in the arr is 1\n",
      "time complexity is o(n) and space complexity is o(n)\n"
     ]
    }
   ],
   "source": [
    "nums = [1,1,1,2,2]\n",
    "print(f'Majority element in the arr is {majorityElement(nums)}')\n",
    "print(f'time complexity is o(n) and space complexity is o(n)')"
   ]
  },
  {
   "cell_type": "markdown",
   "id": "7d755015",
   "metadata": {},
   "source": [
    "5. Find the peak element\n",
    "\n",
    "Peak element is the element that is strictly greatly than its neighbors. if an array contains\n",
    "multiple peak elements, return index of any of the peak element\n",
    "\n",
    "arr = [1,2,3,1]\n",
    "\n",
    "op# 2 (index of value 3)"
   ]
  },
  {
   "cell_type": "code",
   "execution_count": 10,
   "id": "b001887b",
   "metadata": {},
   "outputs": [],
   "source": [
    "def peakElementIndex(arr, p, q):\n",
    "    if arr[0] > arr[1]:\n",
    "        return 0\n",
    "    elif arr[-1] > nums[-2]:\n",
    "        return len(arr)-1\n",
    "    else:\n",
    "        mid = p + (q-p)//2\n",
    "        if arr[mid-1] <= arr[mid] and arr[mid+1] <= arr[mid]:\n",
    "            return mid\n",
    "        elif arr[mid-1] > arr[mid]:\n",
    "            return peakElementIndex(arr, p, mid-1)\n",
    "        elif arr[mid+1] > arr[mid]:\n",
    "            return peakElementIndex(arr, mid+1, q)"
   ]
  },
  {
   "cell_type": "code",
   "execution_count": 11,
   "id": "3a73f7b0",
   "metadata": {},
   "outputs": [
    {
     "name": "stdout",
     "output_type": "stream",
     "text": [
      "peak element index: 6 \n",
      "\n",
      "peak element index: 2 \n",
      "\n",
      "Its a binary search problem so time complexity is O(logn) since we are dividing the array \n",
      "\n",
      "Unoptimized approach would be a brute force approach starting from index 1 and len(array)-2\n",
      "and checking whether that value is greater than its index-1 and index+1, time complexity would\n",
      "O(n)\n"
     ]
    }
   ],
   "source": [
    "# driver code:\n",
    "arr = [1,2,3,3,3,4,4,3,1]\n",
    "arr1 = [1,2,3,1]\n",
    "p = 0\n",
    "q = len(arr) - 1\n",
    "q1 = len(arr1)-1\n",
    "print(f'peak element index: {peakElementIndex(arr, p, q)} \\n')\n",
    "print(f'peak element index: {peakElementIndex(arr1, p, q1)} \\n')\n",
    "print(f'Its a binary search problem so time complexity is O(logn) since we are dividing the array \\n')\n",
    "print(f'''Unoptimized approach would be a brute force approach starting from index 1 and len(array)-2\n",
    "and checking whether that value is greater than its index-1 and index+1, time complexity would\n",
    "O(n)''')"
   ]
  },
  {
   "cell_type": "code",
   "execution_count": null,
   "id": "092ac772",
   "metadata": {},
   "outputs": [],
   "source": []
  }
 ],
 "metadata": {
  "kernelspec": {
   "display_name": "Python 3 (ipykernel)",
   "language": "python",
   "name": "python3"
  },
  "language_info": {
   "codemirror_mode": {
    "name": "ipython",
    "version": 3
   },
   "file_extension": ".py",
   "mimetype": "text/x-python",
   "name": "python",
   "nbconvert_exporter": "python",
   "pygments_lexer": "ipython3",
   "version": "3.9.12"
  }
 },
 "nbformat": 4,
 "nbformat_minor": 5
}
