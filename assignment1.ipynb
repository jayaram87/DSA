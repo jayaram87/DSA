{
 "cells": [
  {
   "cell_type": "markdown",
   "id": "b91dd7c3",
   "metadata": {},
   "source": [
    "1. Compute and return the square root of x, where x is guaranteed to be a non-negative\n",
    "integer. And since the return type is an integer, the decimal digits are truncated and only\n",
    "the integer part of the result is returned. Also, talk about the time complexity of your\n",
    "code."
   ]
  },
  {
   "cell_type": "code",
   "execution_count": 17,
   "id": "2ae1cb4b",
   "metadata": {},
   "outputs": [],
   "source": [
    "def sqrtroot(value: int):\n",
    "    assert value >= 1\n",
    "    return int(value**0.5)"
   ]
  },
  {
   "cell_type": "code",
   "execution_count": 19,
   "id": "572bb8f7",
   "metadata": {},
   "outputs": [
    {
     "name": "stdout",
     "output_type": "stream",
     "text": [
      "2\n",
      "time complexity is o(1)\n",
      "2\n"
     ]
    }
   ],
   "source": [
    "try:\n",
    "    print(f'{sqrtroot(4)}')\n",
    "    print(f'time complexity is o(1)')\n",
    "    print(f'{sqrtroot(8)}')\n",
    "except Exception as e:\n",
    "    print(f'{str(e)}')"
   ]
  },
  {
   "cell_type": "code",
   "execution_count": 20,
   "id": "420dc1f4",
   "metadata": {},
   "outputs": [],
   "source": [
    "def binsqrtroot(value: int):\n",
    "    assert value >= 1\n",
    "    if value == 1:\n",
    "        return value\n",
    "    else:\n",
    "        i, j = 0, value\n",
    "        while i <= j:\n",
    "            mid = i + (j-i)//2\n",
    "            if value == mid**2:\n",
    "                return mid # perfect square\n",
    "            elif value < mid**2:\n",
    "                # eg: 8 < 4**2: sqrt of 8 is between i=0 and j=4-1=3: mid=1: 8>1**2\n",
    "                j = mid-1\n",
    "            else:\n",
    "                # i=1+1=2, j=3: mid=2+3//2=2: ans=2, 8>2**2 since i>j it ll loop out wit ans=2\n",
    "                i = mid+1\n",
    "                ans = mid\n",
    "    return ans"
   ]
  },
  {
   "cell_type": "code",
   "execution_count": 21,
   "id": "24e84df1",
   "metadata": {},
   "outputs": [
    {
     "name": "stdout",
     "output_type": "stream",
     "text": [
      "2\n",
      "time complexity is o(logn)\n",
      "2\n"
     ]
    }
   ],
   "source": [
    "try:\n",
    "    print(f'{sqrtroot(4)}')\n",
    "    print(f'time complexity is o(logn)')\n",
    "    print(f'{sqrtroot(8)}')\n",
    "except Exception as e:\n",
    "    print(f'{str(e)}')"
   ]
  },
  {
   "cell_type": "markdown",
   "id": "611911e1",
   "metadata": {},
   "source": [
    "3. Given a positive integer num, write a program that returns True if num is a perfect\n",
    "square else return False. Do not use built-in functions like sqrt. Also, talk about the time\n",
    "complexity of your code."
   ]
  },
  {
   "cell_type": "code",
   "execution_count": 22,
   "id": "9bf01477",
   "metadata": {},
   "outputs": [],
   "source": [
    "def sqrtroot(value: int):\n",
    "    assert value > 0\n",
    "    if value**0.5 % 1:\n",
    "        return False\n",
    "    else:\n",
    "        return True"
   ]
  },
  {
   "cell_type": "code",
   "execution_count": 23,
   "id": "d7b0e26a",
   "metadata": {},
   "outputs": [
    {
     "name": "stdout",
     "output_type": "stream",
     "text": [
      "True\n",
      "time complexity is o(1)\n",
      "False\n"
     ]
    }
   ],
   "source": [
    "try:\n",
    "    print(f'{sqrtroot(16)}')\n",
    "    print(f'time complexity is o(1)')\n",
    "    print(f'{sqrtroot(14)}')\n",
    "except Exception as e:\n",
    "    print(f'{str(e)}')"
   ]
  },
  {
   "cell_type": "code",
   "execution_count": 24,
   "id": "721ccc50",
   "metadata": {},
   "outputs": [],
   "source": [
    "def binsqrtroot(value: int):\n",
    "    assert value > 1\n",
    "    i, j = 1, value\n",
    "    while i <= j:\n",
    "        mid = i + (j-i)//2\n",
    "        if mid == value**.5:\n",
    "            # i=0, j=9: 9-1//2=4: 4!=3 -\n",
    "            return True\n",
    "        elif value < mid**2:\n",
    "            j = mid-1\n",
    "        else:\n",
    "            i = mid+1\n",
    "            ans = mid\n",
    "            if ans == value**0.5:\n",
    "                return True\n",
    "    return False"
   ]
  },
  {
   "cell_type": "code",
   "execution_count": 25,
   "id": "b6ef7318",
   "metadata": {},
   "outputs": [
    {
     "name": "stdout",
     "output_type": "stream",
     "text": [
      "True\n",
      "time complexity is o(logn)\n",
      "False\n"
     ]
    }
   ],
   "source": [
    "try:\n",
    "    print(f'{binsqrtroot(16)}')\n",
    "    print(f'time complexity is o(logn)')\n",
    "    print(f'{binsqrtroot(14)}')\n",
    "except Exception as e:\n",
    "    print(f'{str(e)}')"
   ]
  },
  {
   "cell_type": "markdown",
   "id": "83b1a5b2",
   "metadata": {},
   "source": [
    "2. You are a product manager and currently leading a team to develop a new product. Unfortunately, the latest version of your product fails the quality check. Since each version is developed based on the previous version, all the versions after a bad version are also bad. Suppose you have n version and you want to find out the first bad one, which causes all the following ones to be bad. Also, talk about the time complexity of your code.\n",
    "- Test Cases:\n",
    "- Input: [0,0,0,1,1,1,1,1,1]\n",
    "- Output: 3\n",
    "- Explanation: 0 indicates a good version and 1 indicates a bad version. So, the index of\n",
    "- the first 1 is at 3. Thus, the output is 3"
   ]
  },
  {
   "cell_type": "code",
   "execution_count": 43,
   "id": "d037a5d3",
   "metadata": {},
   "outputs": [],
   "source": [
    "def binsearch(arr, i, j):\n",
    "    if i > j:\n",
    "        return -1\n",
    "    if arr[0] == 1: return 0\n",
    "    \n",
    "    mid = i + (j-i)//2\n",
    "    if arr[mid] == 1 and (arr[mid-1] == 0):\n",
    "        return mid\n",
    "    elif arr[mid] == 0:\n",
    "        return binsearch(arr, mid+1, j)\n",
    "    else:\n",
    "        return binsearch(arr, i, mid-1)"
   ]
  },
  {
   "cell_type": "code",
   "execution_count": 44,
   "id": "e6901159",
   "metadata": {},
   "outputs": [
    {
     "data": {
      "text/plain": [
       "5"
      ]
     },
     "execution_count": 44,
     "metadata": {},
     "output_type": "execute_result"
    }
   ],
   "source": [
    "arr = [0,0,0,0,0,1,1,1,1]\n",
    "binsearch(arr, 0, len(arr)-1)"
   ]
  },
  {
   "cell_type": "code",
   "execution_count": 45,
   "id": "133e1c35",
   "metadata": {},
   "outputs": [
    {
     "data": {
      "text/plain": [
       "0"
      ]
     },
     "execution_count": 45,
     "metadata": {},
     "output_type": "execute_result"
    }
   ],
   "source": [
    "arr = [1,1,1,1,1,1,1,1,1]\n",
    "binsearch(arr, 0, len(arr)-1)"
   ]
  },
  {
   "cell_type": "code",
   "execution_count": 46,
   "id": "dc3d83b4",
   "metadata": {},
   "outputs": [
    {
     "data": {
      "text/plain": [
       "3"
      ]
     },
     "execution_count": 46,
     "metadata": {},
     "output_type": "execute_result"
    }
   ],
   "source": [
    "arr = [0,0,0,1,1,1,1,1,1]\n",
    "binsearch(arr, 0, len(arr)-1)"
   ]
  },
  {
   "cell_type": "code",
   "execution_count": 47,
   "id": "630d96cc",
   "metadata": {},
   "outputs": [
    {
     "name": "stdout",
     "output_type": "stream",
     "text": [
      "time complexity is o(logn)\n"
     ]
    }
   ],
   "source": [
    "print(f'time complexity is o(logn)')"
   ]
  },
  {
   "cell_type": "code",
   "execution_count": null,
   "id": "51278186",
   "metadata": {},
   "outputs": [],
   "source": []
  }
 ],
 "metadata": {
  "kernelspec": {
   "display_name": "Python 3 (ipykernel)",
   "language": "python",
   "name": "python3"
  },
  "language_info": {
   "codemirror_mode": {
    "name": "ipython",
    "version": 3
   },
   "file_extension": ".py",
   "mimetype": "text/x-python",
   "name": "python",
   "nbconvert_exporter": "python",
   "pygments_lexer": "ipython3",
   "version": "3.9.12"
  }
 },
 "nbformat": 4,
 "nbformat_minor": 5
}
