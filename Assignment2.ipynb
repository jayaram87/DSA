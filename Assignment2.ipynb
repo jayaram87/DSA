{
 "cells": [
  {
   "cell_type": "markdown",
   "id": "e0916889",
   "metadata": {},
   "source": [
    "1. Create a buildheap method that returns a minheap\n",
    "\n",
    "arr = [1,3,7,9,12,10,8,16,18,22,27]"
   ]
  },
  {
   "cell_type": "code",
   "execution_count": 1,
   "id": "370a6ac8",
   "metadata": {},
   "outputs": [],
   "source": [
    "def heapify(arr, n, i):\n",
    "    smallest = i\n",
    "    left_child = 2*i + 1\n",
    "    right_child = 2*i + 2\n",
    "    if left_child < n and arr[left_child] < arr[smallest]:\n",
    "        arr[left_child], arr[smallest] = arr[smallest], arr[left_child]\n",
    "        heapify(arr, n, left_child)\n",
    "    elif right_child < n and arr[right_child] < arr[smallest]:\n",
    "        arr[right_child], arr[smallest] = arr[smallest], arr[right_child]\n",
    "        heapify(arr, n, right_child)\n",
    "    else:\n",
    "        return"
   ]
  },
  {
   "cell_type": "code",
   "execution_count": 2,
   "id": "aca5535c",
   "metadata": {},
   "outputs": [],
   "source": [
    "def buildHeap(arr, n):\n",
    "    idx = len(arr)//2 - 1 # all the elems not in leaves from index n\n",
    "    for i in range(idx, -1, -1):\n",
    "        heapify(arr, n, i)\n",
    "    return arr"
   ]
  },
  {
   "cell_type": "code",
   "execution_count": 3,
   "id": "e379b678",
   "metadata": {},
   "outputs": [
    {
     "data": {
      "text/plain": [
       "[1, 3, 7, 9, 12, 10, 8, 16, 18, 22, 27]"
      ]
     },
     "execution_count": 3,
     "metadata": {},
     "output_type": "execute_result"
    }
   ],
   "source": [
    "arr = [1,3,7,9,12,10,8,16,18,22,27]\n",
    "buildHeap(arr, len(arr))"
   ]
  },
  {
   "cell_type": "markdown",
   "id": "d5ec629d",
   "metadata": {},
   "source": [
    "# above result:\n",
    "1. root node: index: 0 value 1\n",
    "2. level 1: index: 1,2 values 3,7\n",
    "3. level 2: parent 1 value 3: indices: 3,4 values: 9, 12\n",
    "4. level 2: parent 2 value 7: indices: 5,6 values: 10, 8\n",
    "5. level 3: parent 3 value 9: indices: 7,8 values: 16, 18\n",
    "6. level 3: parent 4 value 12: indices: 9, 10 values: 22, 27"
   ]
  },
  {
   "cell_type": "code",
   "execution_count": 4,
   "id": "5bd69fd6",
   "metadata": {},
   "outputs": [
    {
     "data": {
      "text/plain": [
       "[1, 1, 1, 9, 2, 1, 1, 16, 18, 22, 3, 7, 2]"
      ]
     },
     "execution_count": 4,
     "metadata": {},
     "output_type": "execute_result"
    }
   ],
   "source": [
    "arr = [1,3,7,9,1,1,1,16,18,22,2,1,2]\n",
    "buildHeap(arr, len(arr))"
   ]
  },
  {
   "cell_type": "markdown",
   "id": "f1ecc5c5",
   "metadata": {},
   "source": [
    "# above result:\n",
    "1. root node: index: 0 value 1\n",
    "2. level 1: index: 1,2 values 1,1\n",
    "3. level 2: parent 1 value 1: indices: 3,4 values: 9, 2\n",
    "4. level 2: parent 2 value 1: indices: 5,6 values: 1, 1\n",
    "5. level 3: parent 3 value 9: indices: 7,8 values: 16, 18\n",
    "6. level 3: parent 4 value 2: indices: 9, 10 values: 22, 3\n",
    "7. level 4: parent 5 value 1: indices: 11 values: 7, 2"
   ]
  },
  {
   "cell_type": "markdown",
   "id": "83ea689e",
   "metadata": {},
   "source": [
    "2. Given an array of string words and integer k, return K most frequest words\n",
    "\n",
    "words = ['priya', 'bhatia', 'akshay', 'arpit', 'priya', 'arpit'\n",
    "\n",
    "output = ['arpit', 'akshay', 'priya']"
   ]
  },
  {
   "cell_type": "code",
   "execution_count": 5,
   "id": "faa158de",
   "metadata": {},
   "outputs": [],
   "source": [
    "import heapq"
   ]
  },
  {
   "cell_type": "code",
   "execution_count": 6,
   "id": "b20ffc3f",
   "metadata": {},
   "outputs": [],
   "source": [
    "def sorted_freq_words(words, k):\n",
    "    if len(words) <= 1:\n",
    "        return words\n",
    "    \n",
    "    word_freq = {}\n",
    "    for word in words:\n",
    "        if word in word_freq:\n",
    "            word_freq[word]+=1\n",
    "        else:\n",
    "            word_freq[word]=1\n",
    "    #words = [(freq, word) for word, freq in word_freq.items()]\n",
    "    \n",
    "    #k_largest = heapq.nlargest(k, (words)\n",
    "    heap = []\n",
    "    for word in word_freq.items():\n",
    "        heapq.heappush(heap, (-word[1], word[0]))\n",
    "    \n",
    "    words = []\n",
    "    for _ in range(k):\n",
    "        words.append(heapq.heappop(heap))\n",
    "    \n",
    "    return sorted([word[1] for word in words])\n",
    "    #return sorted([word[1] for word in heap[:k]])"
   ]
  },
  {
   "cell_type": "code",
   "execution_count": 7,
   "id": "67d3f41c",
   "metadata": {},
   "outputs": [
    {
     "data": {
      "text/plain": [
       "['akshay', 'arpit', 'priya']"
      ]
     },
     "execution_count": 7,
     "metadata": {},
     "output_type": "execute_result"
    }
   ],
   "source": [
    "words =['priya', 'bhatia', 'akshay', 'arpit', 'priya', 'arpit']\n",
    "sorted_freq_words(words, 3)"
   ]
  },
  {
   "cell_type": "code",
   "execution_count": 8,
   "id": "555934ce",
   "metadata": {},
   "outputs": [
    {
     "data": {
      "text/plain": [
       "['arpit', 'bhatia', 'priya']"
      ]
     },
     "execution_count": 8,
     "metadata": {},
     "output_type": "execute_result"
    }
   ],
   "source": [
    "words =['priya', 'bhatia', 'bhatia', 'akshay', 'arpit', 'priya', 'arpit']\n",
    "sorted_freq_words(words, 3)"
   ]
  },
  {
   "cell_type": "markdown",
   "id": "39b05617",
   "metadata": {},
   "source": [
    "3. Find the k closest points to origin(0,0)\n",
    "\n",
    "pts = [(1,3),(-2,2)]\n",
    "\n",
    "k = 1\n",
    "\n",
    "output = (-2,2)"
   ]
  },
  {
   "cell_type": "code",
   "execution_count": 9,
   "id": "cf2617ea",
   "metadata": {},
   "outputs": [],
   "source": [
    "def cloest_points(pts, k):\n",
    "    if len(pts) <= 1:\n",
    "        return pts\n",
    "\n",
    "    pt = {}\n",
    "    for x,y in pts:\n",
    "        distance = (x**2 + y**2)**0.5\n",
    "        pt[round(distance,2)]=(x,y)\n",
    "    \n",
    "    heap = []\n",
    "    for a in pt.items():\n",
    "        heapq.heappush(heap, (a[0], a[1]))\n",
    "    \n",
    "    return heapq.nsmallest(k, heap)[0][1]"
   ]
  },
  {
   "cell_type": "code",
   "execution_count": 10,
   "id": "771f0c62",
   "metadata": {},
   "outputs": [
    {
     "data": {
      "text/plain": [
       "(1, 0)"
      ]
     },
     "execution_count": 10,
     "metadata": {},
     "output_type": "execute_result"
    }
   ],
   "source": [
    "pts = [(1,3),(-2,2),(1,0)]\n",
    "k = 1\n",
    "cloest_points(pts, k)"
   ]
  },
  {
   "cell_type": "code",
   "execution_count": null,
   "id": "0396bd37",
   "metadata": {},
   "outputs": [],
   "source": []
  }
 ],
 "metadata": {
  "kernelspec": {
   "display_name": "Python 3 (ipykernel)",
   "language": "python",
   "name": "python3"
  },
  "language_info": {
   "codemirror_mode": {
    "name": "ipython",
    "version": 3
   },
   "file_extension": ".py",
   "mimetype": "text/x-python",
   "name": "python",
   "nbconvert_exporter": "python",
   "pygments_lexer": "ipython3",
   "version": "3.9.12"
  }
 },
 "nbformat": 4,
 "nbformat_minor": 5
}
