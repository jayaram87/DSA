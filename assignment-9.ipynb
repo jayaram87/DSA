{
 "cells": [
  {
   "cell_type": "markdown",
   "id": "ec76b930",
   "metadata": {},
   "source": [
    "1. Strassen’s Matrix Multiplication (Exploration)\n",
    "\n",
    "Given two square matrices of size A and B of size n * n, find their matrix multiplication.\n",
    "\n",
    "[Hint: Try to solve the given problem using the Divide and Conquer Approach]"
   ]
  },
  {
   "cell_type": "markdown",
   "id": "148f36a2",
   "metadata": {},
   "source": [
    "```python\n",
    "\n",
    "mat1 = [[a,b],[c,d]\n",
    "mat2 = [[e,f],[g,h]\n",
    "        \n",
    "mat = mat1@mat2\n",
    "```"
   ]
  },
  {
   "cell_type": "code",
   "execution_count": 1,
   "id": "9d9ccc90",
   "metadata": {},
   "outputs": [],
   "source": [
    "import numpy as np\n",
    "def split(mat):\n",
    "    mat = np.array(mat)\n",
    "    row, col = mat.shape\n",
    "    row2, col2 = row//2, col//2\n",
    "    return mat[:row2, :col2], mat[:row2, col2:], mat[row2:,:col2], mat[row2:,col2:]"
   ]
  },
  {
   "cell_type": "code",
   "execution_count": 2,
   "id": "7d1a26a4",
   "metadata": {},
   "outputs": [],
   "source": [
    "def strassen(x, y):\n",
    "    if len(x)==1:\n",
    "        return x*y\n",
    "    \n",
    "    a, b, c, d = split(x)\n",
    "    e, f, g, h = split(y)\n",
    "    \n",
    "    p1 = strassen(a, f-h)\n",
    "    p2 = strassen(a+b, h)\n",
    "    p3 = strassen(c+d, e)\n",
    "    p4 = strassen(d, g-e)\n",
    "    p5 = strassen(a+d, e+h)\n",
    "    p6 = strassen(b-d, g+h)\n",
    "    p7 = strassen(a-c, e+f)\n",
    "    \n",
    "    c11 = p5 + p4 - p2 + p6\n",
    "    c12 = p1 + p2\n",
    "    c21 = p3 + p4\n",
    "    c22 = p1 + p5 - p3 - p7\n",
    "    \n",
    "    mul_mat = np.vstack((np.hstack((c11, c12)), np.hstack((c21, c22))))\n",
    "    \n",
    "    return mul_mat"
   ]
  },
  {
   "cell_type": "code",
   "execution_count": 3,
   "id": "30a32263",
   "metadata": {},
   "outputs": [
    {
     "name": "stdout",
     "output_type": "stream",
     "text": [
      "matrix mul of a@b is [[19 22]\n",
      " [43 50]]\n",
      "time complexity of strassen algo is o(n^log7) == o(n^2.8074) and space complexity is o(n)\n"
     ]
    }
   ],
   "source": [
    "a = [[1,2],[3,4]]\n",
    "b = [[5,6],[7,8]]\n",
    "print(f'matrix mul of a@b is {strassen(a,b)}')\n",
    "print(f'time complexity of strassen algo is o(n^log7) == o(n^2.8074) and space complexity is o(n)')"
   ]
  },
  {
   "cell_type": "markdown",
   "id": "5eb9fd56",
   "metadata": {},
   "source": [
    "2. Given two sorted arrays num1 and num2 of size m and n respectively, return the median of the two sorted arrays."
   ]
  },
  {
   "cell_type": "code",
   "execution_count": 4,
   "id": "f8ee79f1",
   "metadata": {},
   "outputs": [],
   "source": [
    "def median(num1, num2):\n",
    "    idx1, idx2 = 0, 0\n",
    "    nums = []\n",
    "    \n",
    "    while idx1 < len(num1) and idx2 < len(num2):\n",
    "        if num1[idx1] <= num2[idx2]:\n",
    "            nums.append(num1[idx1])\n",
    "            idx1+=1\n",
    "        else:\n",
    "            nums.append(num2[idx2])\n",
    "            idx2+=1\n",
    "\n",
    "    if idx2 != len(nums2):\n",
    "        nums.extend(nums2[idx2:])\n",
    "        \n",
    "    if idx1 != len(nums1):\n",
    "        nums.extend(nums1[idx1:])\n",
    "        \n",
    "    mid = (len(nums)-1)//2\n",
    "    if len(nums)%2 == 0:\n",
    "        return (nums[mid]+nums[mid+1])/2\n",
    "    else:\n",
    "        return nums[mid]"
   ]
  },
  {
   "cell_type": "code",
   "execution_count": 5,
   "id": "d5127602",
   "metadata": {},
   "outputs": [
    {
     "name": "stdout",
     "output_type": "stream",
     "text": [
      "median of two sorted arrays is 65.0\n",
      "time complexity is o(m+n) and space complexity o(m+n)\n"
     ]
    }
   ],
   "source": [
    "nums1 = [30, 50, 60, 70, 100]\n",
    "nums2 = [20, 40, 70, 80, 90]\n",
    "#median = 60+70/2 = 65.0\n",
    "print(f'median of two sorted arrays is {median(nums1, nums2)}')\n",
    "print(f'time complexity is o(m+n) and space complexity o(m+n)')"
   ]
  },
  {
   "cell_type": "markdown",
   "id": "dabd9efd",
   "metadata": {},
   "source": [
    "3. Implement pow(x,n) which calculates x raised to the power n (i.e. x^n)\n",
    "\n",
    "For example: x = 2.00000, n = -2\n",
    "    \n",
    "Output: 0.25000\n",
    "    \n",
    "Explanation: 2^-2 =½^2 = ¼ = 0.25"
   ]
  },
  {
   "cell_type": "code",
   "execution_count": 6,
   "id": "d6e4b63e",
   "metadata": {},
   "outputs": [],
   "source": [
    "def pow(x, n):\n",
    "    if n == 0:\n",
    "        return 1\n",
    "    \n",
    "    mid = abs(n)//2\n",
    "    result = pow(x, mid)\n",
    "    \n",
    "    if n < 0:\n",
    "        if abs(n)%2 == 0:\n",
    "            return 1/(result * result)\n",
    "        else:\n",
    "            return 1/(x * result * result)\n",
    "    else:\n",
    "        if n%2 == 0:\n",
    "            return result * result\n",
    "        else:\n",
    "            return x * result * result"
   ]
  },
  {
   "cell_type": "code",
   "execution_count": 7,
   "id": "d4dc2a24",
   "metadata": {},
   "outputs": [
    {
     "name": "stdout",
     "output_type": "stream",
     "text": [
      "2^-2 is 0.25\n",
      "time complexity is o(log(n)) and space complexity o(1)\n"
     ]
    }
   ],
   "source": [
    "x = 2\n",
    "n = -2\n",
    "print(f'{x}^{n} is {pow(x, n)}')\n",
    "print(f'time complexity is o(log(n)) and space complexity o(1)')"
   ]
  },
  {
   "cell_type": "markdown",
   "id": "30cddb3c",
   "metadata": {},
   "source": [
    "4. Given two integers, dividend and divisor, divide the two integers without using multiplication, division, and mod operator."
   ]
  },
  {
   "cell_type": "code",
   "execution_count": 8,
   "id": "b3893192",
   "metadata": {},
   "outputs": [],
   "source": [
    "def divideFn(dividend, divisor):\n",
    "    assert divisor > 0\n",
    "    result = 0\n",
    "    while dividend >= divisor:\n",
    "        dividend-=divisor\n",
    "        result+=1\n",
    "    return result"
   ]
  },
  {
   "cell_type": "code",
   "execution_count": 9,
   "id": "86f5698c",
   "metadata": {},
   "outputs": [
    {
     "name": "stdout",
     "output_type": "stream",
     "text": [
      "10 divided by 4 is 2\n",
      "15 divided by 3 is 5\n",
      "time complexity is o(logn) because each time the dividend is reduced by the divisor and space complexity o(1)\n"
     ]
    }
   ],
   "source": [
    "dividend = 15\n",
    "divisor = 3\n",
    "dividend1 = 10\n",
    "divisor1 = 4\n",
    "print(f'{dividend1} divided by {divisor1} is {divideFn(dividend1, divisor1)}')\n",
    "print(f'{dividend} divided by {divisor} is {divideFn(dividend, divisor)}')\n",
    "print(f'time complexity is o(logn) because each time the dividend is reduced by the divisor and space complexity o(1)')"
   ]
  }
 ],
 "metadata": {
  "kernelspec": {
   "display_name": "Python 3 (ipykernel)",
   "language": "python",
   "name": "python3"
  },
  "language_info": {
   "codemirror_mode": {
    "name": "ipython",
    "version": 3
   },
   "file_extension": ".py",
   "mimetype": "text/x-python",
   "name": "python",
   "nbconvert_exporter": "python",
   "pygments_lexer": "ipython3",
   "version": "3.9.12"
  }
 },
 "nbformat": 4,
 "nbformat_minor": 5
}
