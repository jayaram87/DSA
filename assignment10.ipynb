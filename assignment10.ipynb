{
 "cells": [
  {
   "cell_type": "markdown",
   "id": "adaf5210",
   "metadata": {},
   "source": [
    "1. Given a singly linked list, give me the reversal of the linked list.\n",
    "\n",
    "For example\n",
    "\n",
    "Input - 1 -> 2 -> 3 -> 4 -> 5\n",
    "\n",
    "Output - 5 -> 4 -> 3 -> 2 -> 1"
   ]
  },
  {
   "cell_type": "code",
   "execution_count": 1,
   "id": "8402adca",
   "metadata": {},
   "outputs": [],
   "source": [
    "class Node:\n",
    "    def __init__(self, data):\n",
    "        self.data = data\n",
    "        self.nextPtr = None"
   ]
  },
  {
   "cell_type": "code",
   "execution_count": 2,
   "id": "baffd11b",
   "metadata": {},
   "outputs": [],
   "source": [
    "class LinkedList:\n",
    "    def __init__(self):\n",
    "        self.head = None\n",
    "        \n",
    "    def insertEnd(self, data):\n",
    "        new_node = Node(data)\n",
    "        \n",
    "        if self.head is None:\n",
    "            self.head = new_node\n",
    "            return\n",
    "        \n",
    "        temp = self.head\n",
    "        \n",
    "        while temp.nextPtr:\n",
    "            temp = temp.nextPtr\n",
    "            \n",
    "        temp.nextPtr = new_node\n",
    "        \n",
    "    def reverse_list(self):        \n",
    "        prevPtr, nPtr, curr = None, None, self.head\n",
    "        \n",
    "        while curr:\n",
    "            nPtr = curr.nextPtr\n",
    "            curr.nextPtr = prevPtr\n",
    "            prevPtr = curr\n",
    "            curr = nPtr\n",
    "        self.head = prevPtr\n",
    "            \n",
    "    def print_list(self):\n",
    "        if self.head is None:\n",
    "            return None\n",
    "        \n",
    "        temp = self.head\n",
    "        while temp:\n",
    "            print(f'{temp.data}'+'>>', end=' ')\n",
    "            temp = temp.nextPtr\n",
    "            \n",
    "    def detect_loop(self):\n",
    "        if self.head is None:\n",
    "            return\n",
    "        \n",
    "        hare, tortoise = self.head, self.head\n",
    "        \n",
    "        while hare and tortoise and hare.nextPtr:\n",
    "            hare = hare.nextPtr.nextPtr\n",
    "            tortoise = tortoise.nextPtr\n",
    "            \n",
    "            if hare == hare:\n",
    "                return True\n",
    "            \n",
    "            return False"
   ]
  },
  {
   "cell_type": "code",
   "execution_count": 3,
   "id": "abad2d9c",
   "metadata": {},
   "outputs": [
    {
     "name": "stdout",
     "output_type": "stream",
     "text": [
      "Original Linked List\n",
      "1>> 2>> 3>> 4>> 5>> 6>> 7>> \n",
      "------------------\n",
      "\n",
      "Reversed Linked List\n",
      "7>> 6>> 5>> 4>> 3>> 2>> 1>> "
     ]
    }
   ],
   "source": [
    "linkList = LinkedList()\n",
    "linkList.insertEnd(1)\n",
    "linkList.insertEnd(2)\n",
    "linkList.insertEnd(3)\n",
    "linkList.insertEnd(4)\n",
    "linkList.insertEnd(5)\n",
    "linkList.insertEnd(6)\n",
    "linkList.insertEnd(7)\n",
    "print(f'Original Linked List')\n",
    "linkList.print_list()\n",
    "print(f'\\n------------------\\n')\n",
    "linkList.reverse_list()\n",
    "print(f'Reversed Linked List')\n",
    "linkList.print_list()"
   ]
  },
  {
   "cell_type": "markdown",
   "id": "185eb9ed",
   "metadata": {},
   "source": [
    "2. Convert a singly linked list into a circular linked list (Palindrome Linked List)"
   ]
  },
  {
   "cell_type": "code",
   "execution_count": 4,
   "id": "f3448f4a",
   "metadata": {},
   "outputs": [],
   "source": [
    "class CircularLinkedList:\n",
    "    def __init__(self):\n",
    "        self.head = None\n",
    "        \n",
    "    def insertFront(self, data):\n",
    "        new_node = Node(data)\n",
    "        \n",
    "        if self.head is None:\n",
    "            self.head = new_node\n",
    "            new_node.nextPtr = self.head\n",
    "            return\n",
    "        \n",
    "        new_node.nextPtr = self.head # placing the new node at the front\n",
    "        \n",
    "        temp = self.head\n",
    "        # check if the tail node is not equal to the head pointer\n",
    "        while temp.nextPtr != self.head:\n",
    "            temp = temp.nextPtr\n",
    "        print(temp.data)\n",
    "        temp.nextPtr = new_node\n",
    "        self.head = new_node\n",
    "        print(self.head.data)"
   ]
  },
  {
   "cell_type": "code",
   "execution_count": 5,
   "id": "ba8e5928",
   "metadata": {},
   "outputs": [
    {
     "name": "stdout",
     "output_type": "stream",
     "text": [
      "1\n",
      "2\n",
      "1\n",
      "3\n"
     ]
    }
   ],
   "source": [
    "linkList = CircularLinkedList()\n",
    "linkList.insertFront(1)\n",
    "linkList.insertFront(2)\n",
    "linkList.insertFront(3)\n",
    "# 1 is the last node and 3 is the first node"
   ]
  },
  {
   "cell_type": "markdown",
   "id": "7e01625f",
   "metadata": {},
   "source": [
    "3. Write a function to check whether a given linked list is palindrome"
   ]
  },
  {
   "cell_type": "code",
   "execution_count": 6,
   "id": "34fe92fa",
   "metadata": {},
   "outputs": [],
   "source": [
    "def reverse_list(a):        \n",
    "    prevPtr, nPtr, curr = None, None, a.head\n",
    "\n",
    "    while curr:\n",
    "        nPtr = curr.nextPtr\n",
    "        curr.nextPtr = prevPtr\n",
    "        prevPtr = curr\n",
    "        curr = nPtr\n",
    "    a.head = prevPtr\n",
    "    return a"
   ]
  },
  {
   "cell_type": "code",
   "execution_count": 7,
   "id": "83762bf2",
   "metadata": {},
   "outputs": [],
   "source": [
    "def isLinkedListPalindrome(llist):\n",
    "    reversed_list = reverse_list(llist)\n",
    "    \n",
    "    temp1 = llist.head\n",
    "    temp2 = reversed_list.head\n",
    "    \n",
    "    if temp1 is None:\n",
    "        return False\n",
    "    \n",
    "    while temp1:\n",
    "        print(temp1.data, temp2.data)\n",
    "        if temp1.data != temp2.data:\n",
    "            return False\n",
    "        else:\n",
    "            temp1 = temp1.nextPtr\n",
    "            temp2 = temp2.nextPtr\n",
    "            \n",
    "    return True"
   ]
  },
  {
   "cell_type": "code",
   "execution_count": 8,
   "id": "853979e0",
   "metadata": {},
   "outputs": [
    {
     "name": "stdout",
     "output_type": "stream",
     "text": [
      "Function is using extra space to call the reverse link list function\n",
      "1 1\n",
      "2 2\n",
      "2 2\n",
      "1 1\n",
      "Linked List is a palindrome\n"
     ]
    }
   ],
   "source": [
    "linkList = LinkedList()\n",
    "linkList.insertEnd(1)\n",
    "linkList.insertEnd(2)\n",
    "linkList.insertEnd(2)\n",
    "linkList.insertEnd(1)\n",
    "print(f'Function is using extra space to call the reverse link list function')\n",
    "if isLinkedListPalindrome(linkList):\n",
    "    print(f'Linked List is a palindrome')\n",
    "else:\n",
    "    print(f'Linked List not is a palindrome')"
   ]
  },
  {
   "cell_type": "markdown",
   "id": "4122970a",
   "metadata": {},
   "source": [
    "4. Given a linked list of N nodes where nodes can contain values 0s, 1s, and 2s only. The task is to segregate 0s, 1s, and 2s linked list such that all zeros segregate to the head side, 2s at the end of the linked list, and 1s in the mid of 0s and 2s. (Linked List Cycle)"
   ]
  },
  {
   "cell_type": "code",
   "execution_count": 9,
   "id": "d09e2e56",
   "metadata": {},
   "outputs": [],
   "source": [
    "def sortLinkList(llist):\n",
    "    if llist.head is None:\n",
    "        return\n",
    "    \n",
    "    # count the # of zeros, ones and twos\n",
    "    count = [0, 0, 0]\n",
    "    \n",
    "    temp = llist.head\n",
    "    while temp:\n",
    "        count[temp.data]+=1\n",
    "        temp = temp.nextPtr\n",
    "        \n",
    "    temp = llist.head\n",
    "    \n",
    "    i = 0\n",
    "    while temp:\n",
    "        if count[i] == 0:\n",
    "            i+=1\n",
    "        else:\n",
    "            # starts adding zero nodes and decrements the count list of the particular value and adds data as i value\n",
    "            # if the count[i] is zero increments to one and adds the one values\n",
    "            # finally two\n",
    "            temp.data = i\n",
    "            count[i]-=1\n",
    "            temp = temp.nextPtr\n",
    "            \n",
    "    return llist"
   ]
  },
  {
   "cell_type": "code",
   "execution_count": 10,
   "id": "ba81077f",
   "metadata": {},
   "outputs": [
    {
     "name": "stdout",
     "output_type": "stream",
     "text": [
      "Unsorted link list\n",
      "0>> 1>> 2>> 0>> 1>> 2>> 0>> 1>> \n",
      "\n",
      "Sorted link list\n",
      "0>> 0>> 0>> 1>> 1>> 1>> 2>> 2>> "
     ]
    }
   ],
   "source": [
    "linkList = LinkedList()\n",
    "linkList.insertEnd(0)\n",
    "linkList.insertEnd(1)\n",
    "linkList.insertEnd(2)\n",
    "linkList.insertEnd(0)\n",
    "linkList.insertEnd(1)\n",
    "linkList.insertEnd(2)\n",
    "linkList.insertEnd(0)\n",
    "linkList.insertEnd(1)\n",
    "print(f'Unsorted link list')\n",
    "linkList.print_list()\n",
    "print('\\n')\n",
    "print(f'Sorted link list')\n",
    "sortLinkList(linkList)\n",
    "linkList.print_list()"
   ]
  },
  {
   "cell_type": "markdown",
   "id": "5a15ce0d",
   "metadata": {},
   "source": [
    "5. Given a linked list, detect the loop inside the linked list."
   ]
  },
  {
   "cell_type": "code",
   "execution_count": 11,
   "id": "6f5798f8",
   "metadata": {},
   "outputs": [
    {
     "name": "stdout",
     "output_type": "stream",
     "text": [
      "Original Linked List\n",
      "1>> 2>> 3>> 4>> 5>> 6>> 7>> \n",
      "------------------\n",
      "\n",
      "Circular list, linking last node with head node\n",
      "its a circular Link List\n"
     ]
    }
   ],
   "source": [
    "linkList = LinkedList()\n",
    "linkList.insertEnd(1)\n",
    "linkList.insertEnd(2)\n",
    "linkList.insertEnd(3)\n",
    "linkList.insertEnd(4)\n",
    "linkList.insertEnd(5)\n",
    "linkList.insertEnd(6)\n",
    "linkList.insertEnd(7)\n",
    "print(f'Original Linked List')\n",
    "linkList.print_list()\n",
    "print(f'\\n------------------\\n')\n",
    "print(f'Circular list, linking last node with head node')\n",
    "linkList.head.nextPtr.nextPtr.nextPtr.nextPtr.nextPtr.nextPtr = linkList.head\n",
    "#linkList.print_list()\n",
    "if linkList.detect_loop():\n",
    "    print(f'its a circular Link List')\n",
    "else:\n",
    "    print(f'Not a circular Link list')"
   ]
  },
  {
   "cell_type": "markdown",
   "id": "4cce7607",
   "metadata": {},
   "source": [
    "6. Remove Nth Node from End of List, Given the head of a linked list, remove the nth node from the end of the list and return its head."
   ]
  },
  {
   "cell_type": "code",
   "execution_count": 12,
   "id": "2907426b",
   "metadata": {},
   "outputs": [],
   "source": [
    "def deleteNthNode(llist, nth):\n",
    "    count = 0\n",
    "    \n",
    "    temp = llist.head\n",
    "    while temp is not None:\n",
    "        count+=1\n",
    "        temp = temp.nextPtr\n",
    "        \n",
    "    print(count)\n",
    "        \n",
    "    temp = llist.head\n",
    "    for i in range(count-nth-1):\n",
    "        temp = temp.nextPtr\n",
    "        if temp is None:\n",
    "            return\n",
    "        \n",
    "    ptr = temp.nextPtr.nextPtr\n",
    "    temp.nextPtr = None\n",
    "    temp.nextPtr = ptr\n",
    "    \n",
    "    return llist"
   ]
  },
  {
   "cell_type": "code",
   "execution_count": 13,
   "id": "374a6417",
   "metadata": {},
   "outputs": [
    {
     "name": "stdout",
     "output_type": "stream",
     "text": [
      "Link list\n",
      "1>> 2>> 3>> 4>> 5>> 6>> 7>> 8>> \n",
      "\n",
      "Deleting 3 last node from link list\n",
      "8\n",
      "1>> 2>> 3>> 4>> 5>> 7>> 8>> \n",
      "\n",
      "Time complexity o(n)\n"
     ]
    }
   ],
   "source": [
    "linkList = LinkedList()\n",
    "linkList.insertEnd(1)\n",
    "linkList.insertEnd(2)\n",
    "linkList.insertEnd(3)\n",
    "linkList.insertEnd(4)\n",
    "linkList.insertEnd(5)\n",
    "linkList.insertEnd(6)\n",
    "linkList.insertEnd(7)\n",
    "linkList.insertEnd(8)\n",
    "print(f'Link list')\n",
    "linkList.print_list()\n",
    "print('\\n')\n",
    "n = 3\n",
    "print(f'Deleting {n} last node from link list')\n",
    "deleteNthNode(linkList, n)\n",
    "linkList.print_list()\n",
    "print('\\n')\n",
    "print(f'Time complexity o(n)')"
   ]
  },
  {
   "cell_type": "code",
   "execution_count": null,
   "id": "c4eca942",
   "metadata": {},
   "outputs": [],
   "source": []
  }
 ],
 "metadata": {
  "kernelspec": {
   "display_name": "Python 3 (ipykernel)",
   "language": "python",
   "name": "python3"
  },
  "language_info": {
   "codemirror_mode": {
    "name": "ipython",
    "version": 3
   },
   "file_extension": ".py",
   "mimetype": "text/x-python",
   "name": "python",
   "nbconvert_exporter": "python",
   "pygments_lexer": "ipython3",
   "version": "3.9.12"
  }
 },
 "nbformat": 4,
 "nbformat_minor": 5
}
